{
 "cells": [
  {
   "cell_type": "markdown",
   "metadata": {},
   "source": [
    "# Generation of the graphical model\n",
    "### Uses the Daft library: https://docs.daft-pgm.org/en/latest/\n",
    "### Dependencies are Daft, matplotlib and numpy"
   ]
  },
  {
   "cell_type": "code",
   "execution_count": 50,
   "metadata": {},
   "outputs": [],
   "source": [
    "from matplotlib import rc\n",
    "import daft"
   ]
  },
  {
   "cell_type": "code",
   "execution_count": 75,
   "metadata": {},
   "outputs": [],
   "source": [
    "pgm = daft.PGM()"
   ]
  },
  {
   "cell_type": "code",
   "execution_count": 76,
   "metadata": {},
   "outputs": [
    {
     "data": {
      "text/plain": [
       "<daft.Node at 0x7f6a4f405cc0>"
      ]
     },
     "execution_count": 76,
     "metadata": {},
     "output_type": "execute_result"
    }
   ],
   "source": [
    "zn = daft.Node(\"zn\", r\"$z_n$\", 0.9, 5)\n",
    "pgm.add_node(zn)\n",
    "s = daft.Node(\"s\", r\"$s_n$\", 2.2, 5, scale=0.2, offset=(10,0))\n",
    "lmu = daft.Node(\"lmu\", r\"$\\ell_{\\mu}$\", 3, 5, scale=0.2, offset=(10,0))\n",
    "ls = daft.Node(\"ls\", r\"$\\ell^2_{\\sigma}$\", 4, 5, scale=0.2, offset=(10,0))\n",
    "pgm.add_node(s)\n",
    "pgm.add_node(lmu)\n",
    "pgm.add_node(ls)\n",
    "ln = daft.Node(\"ln\", r\"$\\ell_{n}$\", 3.5, 4)\n",
    "pgm.add_node(ln)\n",
    "\n",
    "theta = daft.Node(\"theta\", r\"$\\theta_{n,g}$\", 2.5, 4, scale=0.2, offset=(15,0))\n",
    "pgm.add_node(theta)\n",
    "\n",
    "rho = daft.Node(\"rho\", r\"$\\rho^g_n$\", 1.5, 4)\n",
    "pgm.add_node(rho)\n",
    "\n",
    "h = daft.Node(\"h\", r\"$h_{n,g}$\", 0.5, 3.5)\n",
    "pgm.add_node(h)\n",
    "\n",
    "w = daft.Node(\"w\", r\"$w_{n,g}$\", 2, 3)\n",
    "pgm.add_node(w)\n",
    "\n",
    "y = daft.Node(\"y\", r\"$y_{n,g}$\", 2.5, 2)\n",
    "pgm.add_node(y)\n",
    "\n",
    "x = daft.Node(\"x\", r\"$x_{n,g}$\", 2, 1)\n",
    "pgm.add_node(x)"
   ]
  },
  {
   "cell_type": "code",
   "execution_count": 77,
   "metadata": {},
   "outputs": [
    {
     "data": {
      "text/plain": [
       "<daft.Edge at 0x7f6a4f33eeb8>"
      ]
     },
     "execution_count": 77,
     "metadata": {},
     "output_type": "execute_result"
    }
   ],
   "source": [
    "pgm.add_edge(\"zn\", \"rho\", directed=True)\n",
    "pgm.add_edge(\"zn\", \"h\", directed=True)\n",
    "pgm.add_edge(\"s\", \"rho\", directed=True)\n",
    "pgm.add_edge(\"theta\", \"w\", directed=True)\n",
    "pgm.add_edge(\"rho\", \"w\", directed=True)\n",
    "pgm.add_edge(\"w\", \"y\", directed=True)\n",
    "pgm.add_edge(\"h\", \"x\", directed=True)\n",
    "pgm.add_edge(\"lmu\", \"ln\", directed=True)\n",
    "pgm.add_edge(\"ls\", \"ln\", directed=True)\n",
    "pgm.add_edge(\"ln\", \"y\", directed=True)\n",
    "pgm.add_edge(\"y\", \"x\", directed=True)"
   ]
  },
  {
   "cell_type": "code",
   "execution_count": 78,
   "metadata": {},
   "outputs": [],
   "source": [
    "gene_plate = daft.Plate([0,0,3,4.6], label=\"g = 1...G\")\n",
    "cell_plate = daft.Plate([0,-0.5,4.5,6.1], label=\"n = 1...N\")\n",
    "pgm.add_plate(gene_plate)\n",
    "pgm.add_plate(cell_plate)"
   ]
  },
  {
   "cell_type": "code",
   "execution_count": 79,
   "metadata": {},
   "outputs": [
    {
     "data": {
      "text/plain": [
       "<matplotlib.axes._axes.Axes at 0x7f6a4f894f28>"
      ]
     },
     "execution_count": 79,
     "metadata": {},
     "output_type": "execute_result"
    },
    {
     "data": {
      "image/png": "[encoded data removed]",
      "text/plain": [
       "<Figure size 266.457x357.165 with 1 Axes>"
      ]
     },
     "metadata": {},
     "output_type": "display_data"
    }
   ],
   "source": [
    "pgm.render()"
   ]
  },
  {
   "cell_type": "code",
   "execution_count": 80,
   "metadata": {},
   "outputs": [],
   "source": [
    "pgm.savefig(\"new_graphical_model.pdf\")"
   ]
  },
  {
   "cell_type": "code",
   "execution_count": null,
   "metadata": {},
   "outputs": [],
   "source": []
  }
 ],
 "metadata": {
  "kernelspec": {
   "display_name": "Python 3.5 (cgvae)",
   "language": "python",
   "name": "cgvae"
  },
  "language_info": {
   "codemirror_mode": {
    "name": "ipython",
    "version": 3
   },
   "file_extension": ".py",
   "mimetype": "text/x-python",
   "name": "python",
   "nbconvert_exporter": "python",
   "pygments_lexer": "ipython3",
   "version": "3.5.6"
  }
 },
 "nbformat": 4,
 "nbformat_minor": 2
}
